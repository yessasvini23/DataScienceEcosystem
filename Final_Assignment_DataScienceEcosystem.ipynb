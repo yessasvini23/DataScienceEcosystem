{
  "nbformat": 4,
  "nbformat_minor": 0,
  "metadata": {
    "colab": {
      "provenance": []
    },
    "kernelspec": {
      "name": "python3",
      "display_name": "Python 3"
    },
    "language_info": {
      "name": "python"
    }
  },
  "cells": [
    {
      "cell_type": "markdown",
      "source": [
        "# Data Science Tools and Ecosystem\n",
        "Introduction: In this notebook, Data Science Tools and Ecosystem are summarized.\n",
        "\n",
        " # Objectives:\n",
        "\n",
        "\n",
        "*  List popular languages for Data Science\n",
        "*   List commonly used libraries by Data Scientists\n",
        "*   Make a single column table of Data Science Tools\n",
        "*   Run some examples of evaluating arithmetic expressions in Python\n",
        "\n",
        "\n",
        "Some of the popular languages that Data Scientists use are:\n",
        "\n",
        "\n",
        "1. Python Language\n",
        "2. R Language\n",
        "3. Scala\n",
        "4. SQL\n",
        "5. Julia\n",
        "6. C++\n",
        "7. Java\n",
        "\n",
        "Some of the commonly used libraries used by Data Scientists include:\n",
        "\n",
        "\n",
        "1.   Pandas\n",
        "2.   Matplotlib\n",
        "3.   Seaborn\n",
        "4.  Vegas\n",
        "5.  NumPy\n",
        "6. Scikit-Learn\n",
        "7. PyTorch\n",
        "     \n",
        "\n",
        "\n",
        " Data Science Tools\n",
        "   \n",
        "* MySQL\n",
        "* MongoDB\n",
        "* Apache Cassandra\n",
        "\n",
        "\n",
        "\n",
        "\n",
        "\n",
        "\n"
      ],
      "metadata": {
        "id": "6jqlKK93pTWg"
      }
    },
    {
      "cell_type": "markdown",
      "source": [
        " # Below are a few examples of evaluating arithmetic expressions in Python\n"
      ],
      "metadata": {
        "id": "G4EL3dcCrkZc"
      }
    },
    {
      "cell_type": "code",
      "source": [
        "# This a simple arithmetic expression to mutiply then add integers. E.g:\n",
        "(3*4)+5"
      ],
      "metadata": {
        "colab": {
          "base_uri": "https://localhost:8080/"
        },
        "id": "J_JVPSggrmYn",
        "outputId": "96515294-a54d-4fcc-e889-587c6f51875e"
      },
      "execution_count": 1,
      "outputs": [
        {
          "output_type": "execute_result",
          "data": {
            "text/plain": [
              "17"
            ]
          },
          "metadata": {},
          "execution_count": 1
        }
      ]
    },
    {
      "cell_type": "code",
      "source": [
        "# This will convert 200 minutes to hours by diving by 60\n",
        "one_hour = 60\n",
        "x = 200\n",
        "x_in_hours = x/one_hour\n",
        "print(x_in_hours)"
      ],
      "metadata": {
        "colab": {
          "base_uri": "https://localhost:8080/"
        },
        "id": "8fCrZTmLroCn",
        "outputId": "e56f33c4-5021-4421-e07c-d3b18584ee05"
      },
      "execution_count": 3,
      "outputs": [
        {
          "output_type": "stream",
          "name": "stdout",
          "text": [
            "3.3333333333333335\n"
          ]
        }
      ]
    },
    {
      "cell_type": "markdown",
      "source": [
        "# Author"
      ],
      "metadata": {
        "id": "jOzRpwUpr3bf"
      }
    },
    {
      "cell_type": "markdown",
      "source": [
        "# Lakshmi Holla"
      ],
      "metadata": {
        "id": "2_5Pww2Mr_b6"
      }
    },
    {
      "cell_type": "code",
      "source": [],
      "metadata": {
        "id": "qhfs-eFksBhX"
      },
      "execution_count": null,
      "outputs": []
    }
  ]
}